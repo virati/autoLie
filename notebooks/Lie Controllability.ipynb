{
 "cells": [
  {
   "cell_type": "markdown",
   "metadata": {},
   "source": [
    "# Lie Controllability\n",
    "\n",
    "Lie controllability is an approach taken in control theory to determine several properties of our ability to influence the system of interest.\n",
    "Most importantly, this approach doesn't assume that our system is linear.\n",
    "Instead, it operates directly on the nonlinear vector fields that are involved in the drift of our system as well as the control of our system.\n",
    "\n",
    "The goal of this notebook will be to go over the mathematics behind Lie controllability analysis and then outline how the autoLie library can be used to perform Lie Controllability analyses on real-world systems, with particular emphasis on *neural systems*.\n",
    "\n",
    "## Background\n",
    "\n",
    "We start with a control system that has a special structure called *control-affine*.\n",
    "This special structure enables us to separate out our intrinsic dynamics from the influence of our control variable.\n",
    "How the control variable comes in an perturbs the intrinsic dynamics is through the *coupling* vector field $\\vec{g}(x)$.\n"
   ]
  },
  {
   "cell_type": "code",
   "execution_count": null,
   "metadata": {},
   "outputs": [],
   "source": [
    "#!/usr/bin/env python3\n",
    "# -*- coding: utf-8 -*-\n",
    "\"\"\"\n",
    "Created on Mon Dec  3 09:41:12 2018\n",
    "\n",
    "@author: virati\n",
    "Symbolic differentiation layer for lie brackets\n",
    "\"\"\"\n",
    "\n",
    "import sympy as sym\n",
    "from sympy.diffgeom import *\n",
    "import numpy as np\n",
    "\n",
    "M = Manifold(\"M\",5)\n",
    "P = Patch(\"P\",M)\n",
    "coord = CoordSystem(\"coord\",P,[\"x\",\"y\",\"L\",\"u\",\"v\"])\n",
    "\n",
    "x,y,L,u,v = coord.coord_functions()\n",
    "\n",
    "e_x, e_y, e_L, e_u,e_v = coord.base_vectors()\n",
    "\n",
    "expr = (x+u)*e_x + (y+v)*e_y + L*e_L\n",
    "latex(LieDerivative(expr, sym.sqrt(L**2 + (y-x)**2)))"
   ]
  },
  {
   "cell_type": "code",
   "execution_count": null,
   "metadata": {},
   "outputs": [],
   "source": []
  }
 ],
 "metadata": {
  "kernelspec": {
   "display_name": "Python 3",
   "language": "python",
   "name": "python3"
  },
  "language_info": {
   "codemirror_mode": {
    "name": "ipython",
    "version": 3
   },
   "file_extension": ".py",
   "mimetype": "text/x-python",
   "name": "python",
   "nbconvert_exporter": "python",
   "pygments_lexer": "ipython3",
   "version": "3.8.1"
  }
 },
 "nbformat": 4,
 "nbformat_minor": 2
}
